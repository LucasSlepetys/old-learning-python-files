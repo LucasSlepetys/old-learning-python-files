{
 "cells": [
  {
   "cell_type": "code",
   "execution_count": null,
   "metadata": {},
   "outputs": [],
   "source": [
    "\n",
    "print(\"hi\")\n",
    "\n"
   ]
  },
  {
   "cell_type": "code",
   "execution_count": null,
   "metadata": {},
   "outputs": [],
   "source": [
    "PATH = \"/Users/lucasslepetys/Desktop/web scraping/chromedriver\"\n",
    "driver = webdriver.Chrome(PATH)\n",
    "driver.get(\"https://accounts.veracross.eu/fis/portals/login\")\n",
    "\n",
    "time.sleep(2)\n",
    "user = driver.find_element_by_id(\"username\")\n",
    "password = driver.find_element_by_id(\"password\")\n",
    "\n",
    "user.clear()\n",
    "password.clear()\n",
    "\n",
    "user.send_keys(\"lucas_slepetys@fis.edu\") \n",
    "password.send_keys(\"lsls2207\")\n",
    "\n",
    "password.send_keys(Keys.RETURN)\n",
    "\n",
    "time.sleep(3)\n",
    "\n",
    "day = driver.find_elements_by_class_name(\"day\")\n",
    "print(len(day))\n",
    "for i in day:\n",
    "    date = i.find_element_by_class_name(\"day-header\")\n",
    "    try:\n",
    "        letter_day = i.find_element_by_class_name(\"event-link\")\n",
    "    except Exception:\n",
    "        print(\"Error!\")\n",
    "        letter_day = \"Nothing here!\"\n",
    "\n",
    "    try:\n",
    "        letter_day = letter_day.text\n",
    "    except Exception:\n",
    "        pass\n",
    "\n",
    "    print(date.text + \"--> \" + letter_day)\n",
    "\n",
    "driver.quit()\n"
   ]
  },
  {
   "cell_type": "code",
   "execution_count": null,
   "metadata": {},
   "outputs": [],
   "source": []
  }
 ],
 "metadata": {
  "kernelspec": {
   "display_name": "Python 3",
   "language": "python",
   "name": "python3"
  }
 },
 "nbformat": 4,
 "nbformat_minor": 4
}
