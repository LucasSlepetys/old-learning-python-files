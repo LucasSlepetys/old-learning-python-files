{
 "cells": [
  {
   "cell_type": "code",
   "execution_count": null,
   "metadata": {},
   "outputs": [],
   "source": [
    "from random import * \n",
    "\n",
    "user_pass = input(\"Enter your password: \")\n",
    "password = ['a', 'b', 'c', 'd', 'e', 'f', 'g', 'h', 'i', 'j', 'k', 'l', 'm', 'n', 'o', 'p', 'q', 'r', 's', 't', 'u', 'v', 'w', 'x', 'y', 'z', '0', '1', '2', '3', '4', '5', '6', '7', '8', '9']\n",
    "\n",
    "guess = \"\"\n",
    "len_password = len(password)\n",
    "x = 0\n",
    "previous_pass = []\n",
    "same_attempt = 0\n",
    "passw = ''\n",
    "same_guess = []\n",
    "\n",
    "while (guess != user_pass):\n",
    "    guess = \"\"\n",
    "    for letter in range(len(user_pass)):\n",
    "        guess_letter = password[randint(0, len_password - 1)]\n",
    "        guess = str(guess_letter)  + str(guess)\n",
    "        \n",
    "\n",
    "    for i in previous_pass:\n",
    "        passw = i\n",
    "        if guess == passw:\n",
    "            # print(guess + \"----\" + i)\n",
    "            same_attempt += 1\n",
    "            same_guess.append(guess)\n",
    "            break    \n",
    "\n",
    "    previous_pass.append(guess)\n",
    "            \n",
    "\n",
    "    x += 1\n",
    "\n",
    "print(\"Your password is: \" + guess)\n",
    "print(\"It took \" + str(x) + \" times to find your password!\")\n",
    "print(\"You tried the same password \" + str(same_attempt) + \" times\")\n",
    "# print(\"\\n\" + \"\\n\")\n",
    "# print(previous_pass)\n",
    "# print(\"\\n\" + \"\\n\")\n",
    "# print(same_guess)\n"
   ]
  },
  {
   "cell_type": "code",
   "execution_count": null,
   "metadata": {},
   "outputs": [],
   "source": []
  }
 ],
 "metadata": {
  "kernelspec": {
   "display_name": "Python 3",
   "language": "python",
   "name": "python3"
  }
 },
 "nbformat": 4,
 "nbformat_minor": 4
}
