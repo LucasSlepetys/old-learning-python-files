{
 "cells": [
  {
   "cell_type": "code",
   "execution_count": 2,
   "metadata": {},
   "outputs": [],
   "source": [
    "# There is a list of the most chip itens in a store. [15, 14, 11, 10, 5, 4, 3, 1]\n",
    "# Find the sum of the products which costs more than $9."
   ]
  },
  {
   "cell_type": "code",
   "execution_count": 14,
   "metadata": {},
   "outputs": [
    {
     "name": "stdout",
     "output_type": "stream",
     "text": [
      "13\n"
     ]
    }
   ],
   "source": [
    "given_list3 = [5, 4, 4, 3, 1]\n",
    "\n",
    "total3 = 0\n",
    "i = 0\n",
    "while i< len(given_list3) and given_list3[i] > 3:\n",
    "    total3 += given_list3[i]\n",
    "    i += 1\n",
    "print(total3)"
   ]
  },
  {
   "cell_type": "code",
   "execution_count": 20,
   "metadata": {},
   "outputs": [
    {
     "name": "stdout",
     "output_type": "stream",
     "text": [
      "50\n"
     ]
    }
   ],
   "source": [
    "given_list = [15, 14, 11, 10, 5, 4, 3, 1]\n",
    "total = 0 \n",
    "i = 0\n",
    "while i< len(given_list3) and given_list[i] > 9:\n",
    "    total = total + given_list[i]\n",
    "    i = i + 1\n",
    "print(total)"
   ]
  },
  {
   "cell_type": "code",
   "execution_count": null,
   "metadata": {},
   "outputs": [],
   "source": []
  }
 ],
 "metadata": {
  "kernelspec": {
   "display_name": "Python 3",
   "language": "python",
   "name": "python3"
  }
 },
 "nbformat": 4,
 "nbformat_minor": 4
}
