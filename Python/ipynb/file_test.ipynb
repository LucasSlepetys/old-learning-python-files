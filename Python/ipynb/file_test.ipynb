{
 "cells": [
  {
   "cell_type": "code",
   "execution_count": 8,
   "metadata": {},
   "outputs": [],
   "source": [
    "#Testing new things on files:\n",
    "import json \n",
    "workout = { \n",
    "    \"Workout\":  [\n",
    "            {\n",
    "            \"Day\": 1,\n",
    "            \"Push ups\": 30,\n",
    "            \"Pull ups\": 20,\n",
    "            \"Dips\": 30,\n",
    "            \"Curls(10KLs)\": 12,\n",
    "            \"Squats\": 30\n",
    "    }\n",
    "    ]\n",
    "}\n",
    "with open('copy_data.json', 'w') as f:\n",
    "    json.dump(workout['Workout'], f, indent=2)"
   ]
  },
  {
   "cell_type": "code",
   "execution_count": 9,
   "metadata": {},
   "outputs": [
    {
     "name": "stdout",
     "output_type": "stream",
     "text": [
      "Day: 23\n",
      "Push ups: 2342\n",
      "Pull ups: 4\n",
      "Dips: 24\n",
      "Curls: 42\n",
      "Squats: 42\n"
     ]
    }
   ],
   "source": [
    "for obj in workout[\"Workout\"]:\n",
    "    obj[\"Day\"] = int(input(\"Day: \"))\n",
    "    obj[\"Push ups\"] = int(input(\"Push ups: \"))\n",
    "    obj[\"Pull ups\"] = int(input(\"Pull ups: \"))\n",
    "    obj[\"Dips\"] = int(input(\"Dips: \"))\n",
    "    obj[\"Curls(10KLs)\"] = int(input(\"Curls: \"))\n",
    "    obj[\"Squats\"] = int(input(\"Squats: \"))\n",
    "with open('copy_data.json', 'a') as f:\n",
    "    json.dump(workout, f, indent=2)"
   ]
  },
  {
   "cell_type": "code",
   "execution_count": null,
   "metadata": {},
   "outputs": [],
   "source": []
  }
 ],
 "metadata": {
  "kernelspec": {
   "display_name": "Python 3",
   "language": "python",
   "name": "python3"
  },
  "language_info": {
   "codemirror_mode": {
    "name": "ipython",
    "version": 3
   },
   "file_extension": ".py",
   "mimetype": "text/x-python",
   "name": "python",
   "nbconvert_exporter": "python",
   "pygments_lexer": "ipython3",
   "version": "3.7.6"
  }
 },
 "nbformat": 4,
 "nbformat_minor": 4
}
