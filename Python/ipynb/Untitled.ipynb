{
 "cells": [
  {
   "cell_type": "code",
   "execution_count": 2,
   "metadata": {},
   "outputs": [
    {
     "name": "stdout",
     "output_type": "stream",
     "text": [
      "[\n",
      "  {\n",
      "    \"exercise\": \"Push up\",\n",
      "    \"sets\": 4,\n",
      "    \"reps\": 20\n",
      "  }\n",
      "][\n",
      "  {\n",
      "    \"Exercise\": \"Squat\",\n",
      "    \"Sets\": 4,\n",
      "    \"Reps\": 20\n",
      "  }\n",
      "][[\n",
      "  {\n",
      "    \"Exercise\": \"Push ups\",\n",
      "    \"Extra Weight in (Kg)\": 0,\n",
      "    \"Sets\": 5,\n",
      "    \"Reps\": 20,\n",
      "    \"Sets * Reps\": 100\n",
      "  }\n",
      "][\n",
      "  {\n",
      "    \"Exercise\": \"Push up\",\n",
      "    \"Extra Weight in (Kg)\": 0,\n",
      "    \"Sets\": 5,\n",
      "    \"Reps\": 20,\n",
      "    \"Sets * Reps\": 100\n",
      "  }\n",
      "][\n",
      "  {\n",
      "    \"Exercise\": \"Push up\",\n",
      "    \"Extra Weight in (Kg)\": 0,\n",
      "    \"Sets\": 4,\n",
      "    \"Reps\": 10,\n",
      "    \"Sets * Reps\": 40\n",
      "  }\n",
      "][\n",
      "  {\n",
      "    \"Exercise\": \"Push\",\n",
      "    \"Extra Weight in (Kg)\": 0,\n",
      "    \"Sets\": 10,\n",
      "    \"Reps\": 10,\n",
      "    \"Sets * Reps\": 100\n",
      "  }\n",
      "][\n",
      "  {\n",
      "    \"Exercise\": \"Push up \",\n",
      "    \"Extra Weight in (Kg)\": 0,\n",
      "    \"Sets\": 5,\n",
      "    \"Reps\": 20,\n",
      "    \"Sets * Reps\": 100\n",
      "  }\n",
      "][\n",
      "  {\n",
      "    \"Exercise\": \"Push up\",\n",
      "    \"Extra Weight in (Kg)\": 0,\n",
      "    \"Sets\": 5,\n",
      "    \"Reps\": 20,\n",
      "    \"Sets * Reps\": 100\n",
      "  }\n",
      "][\n",
      "  {\n",
      "    \"Exercise\": \"Squats\",\n",
      "    \"Extra Weight in (Kg)\": 0,\n",
      "    \"Sets\": 5,\n",
      "    \"Reps\": 20,\n",
      "    \"Sets * Reps\": 100\n",
      "  }\n",
      "]\n"
     ]
    }
   ],
   "source": [
    "import json\n",
    "with open(\"workout_plan.json\", \"r\") as f:\n",
    "    f_content = f.read()\n",
    "    print(f_content)"
   ]
  },
  {
   "cell_type": "code",
   "execution_count": null,
   "metadata": {},
   "outputs": [],
   "source": []
  }
 ],
 "metadata": {
  "kernelspec": {
   "display_name": "Python 3",
   "language": "python",
   "name": "python3"
  },
  "language_info": {
   "codemirror_mode": {
    "name": "ipython",
    "version": 3
   },
   "file_extension": ".py",
   "mimetype": "text/x-python",
   "name": "python",
   "nbconvert_exporter": "python",
   "pygments_lexer": "ipython3",
   "version": "3.7.6"
  }
 },
 "nbformat": 4,
 "nbformat_minor": 4
}
