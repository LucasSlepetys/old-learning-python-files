{
 "cells": [
  {
   "cell_type": "code",
   "execution_count": 1,
   "metadata": {},
   "outputs": [],
   "source": [
    "from tkinter import *\n",
    "import random\n",
    "\n",
    "tk = Tk()\n",
    "canvas = Canvas(tk, width=500, height=400)\n",
    "tk.title(\"Drawing\")\n",
    "canvas.pack()\n",
    "\n",
    "canvas.create_line(0, 0, 500,400)\n",
    "canvas.create_rectangle(100,100, 250, 250, fill=\"blue\")\n",
    "canvas.create_oval(10, 10, 50, 50, fill=\"green\")\n",
    "canvas.create_polygon(400, 10, 300, 300, 500, 300, fill=\"purple\")\n",
    "\n",
    "for i in range(100):\n",
    "    x1 = random.randrange(500)\n",
    "    y1 = random.randrange(400)\n",
    "    x2 = random.randrange(500)\n",
    "    y2 = random.randrange(400)\n",
    "    canvas.create_rectangle(x1, y1,x2,y2)\n",
    "    \n",
    "canvas.mainloop()\n"
   ]
  },
  {
   "cell_type": "code",
   "execution_count": null,
   "metadata": {},
   "outputs": [],
   "source": []
  }
 ],
 "metadata": {
  "kernelspec": {
   "display_name": "Python 3",
   "language": "python",
   "name": "python3"
  },
  "language_info": {
   "codemirror_mode": {
    "name": "ipython",
    "version": 3
   },
   "file_extension": ".py",
   "mimetype": "text/x-python",
   "name": "python",
   "nbconvert_exporter": "python",
   "pygments_lexer": "ipython3",
   "version": "3.7.6"
  }
 },
 "nbformat": 4,
 "nbformat_minor": 4
}