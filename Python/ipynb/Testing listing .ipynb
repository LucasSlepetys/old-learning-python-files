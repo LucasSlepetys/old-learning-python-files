{
 "cells": [
  {
   "cell_type": "code",
   "execution_count": 1,
   "metadata": {},
   "outputs": [],
   "source": [
    "List_1 = [17, 15, 14, 14, 13, 12 ,8, 6, 5, 3, 2, 1, 0 , -1 ,-3, -5, -7, -10]"
   ]
  },
  {
   "cell_type": "code",
   "execution_count": 4,
   "metadata": {},
   "outputs": [
    {
     "name": "stdout",
     "output_type": "stream",
     "text": [
      "110\n"
     ]
    }
   ],
   "source": [
    "#sum up all the positives numbers & sum up all the negative numbers:\n",
    "total = 0 \n",
    "i = 0\n",
    "while i< len(List_1) and List_1[i] > 0:\n",
    "    total += List_1[i]\n",
    "    i += 1\n",
    "print(total)"
   ]
  },
  {
   "cell_type": "code",
   "execution_count": 11,
   "metadata": {},
   "outputs": [
    {
     "name": "stdout",
     "output_type": "stream",
     "text": [
      "-26\n"
     ]
    }
   ],
   "source": [
    "List_1 = [17, 15, 14, 14, 13, 12 ,8, 6, 5, 3, 2, 1, 0 , -1 ,-3, -5, -7, -10]\n",
    "total1 = 0 \n",
    "i = len(List_1) -1\n",
    "while List_1[i] < 0:\n",
    "    total1 += List_1[i]\n",
    "    i -= 1\n",
    "print(total1)"
   ]
  },
  {
   "cell_type": "code",
   "execution_count": null,
   "metadata": {},
   "outputs": [],
   "source": []
  }
 ],
 "metadata": {
  "kernelspec": {
   "display_name": "Python 3",
   "language": "python",
   "name": "python3"
  },
  "language_info": {
   "codemirror_mode": {
    "name": "ipython",
    "version": 3
   },
   "file_extension": ".py",
   "mimetype": "text/x-python",
   "name": "python",
   "nbconvert_exporter": "python",
   "pygments_lexer": "ipython3",
   "version": "3.7.6"
  }
 },
 "nbformat": 4,
 "nbformat_minor": 4
}
