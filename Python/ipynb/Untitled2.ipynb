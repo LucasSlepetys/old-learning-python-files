{
 "cells": [
  {
   "cell_type": "code",
   "execution_count": 1,
   "metadata": {},
   "outputs": [],
   "source": [
    "from tkinter import *\n",
    "import tkinter.font as tkFont\n",
    "\n",
    "root = Tk()\n",
    "root.geometry(\"520x400\")\n",
    "root.title(\"Login/Register\")\n",
    "root.configure(bg=\"#D3D3D3\")\n",
    "\n",
    "#Funtions:\n",
    "\n",
    "def sign_in():\n",
    "    pass\n",
    "\n",
    "def name(event):\n",
    "    name = \"Name\"\n",
    "    e_name.delete(0, END)\n",
    "\n",
    "\n",
    "#Font style:\n",
    "\n",
    "fontStyle = tkFont.Font(family=\"Lucida Grande\", size=20)\n",
    "\n",
    "#Create layout:\n",
    "label = Label(root, text=\"Register new account\", font=fontStyle, bg=\"#D3D3D3\")\n",
    "e_name = Entry(root, width=25)\n",
    "while len(e_name.get()) == 0:\n",
    "    e_name.insert(0, \"  Name\")\n",
    "e_lastname = Entry(root, width=26)\n",
    "e_email = Entry(root, width=54)\n",
    "e_password = Entry(root, width=54)\n",
    "e_confpassword = Entry(root, width=54)\n",
    "button = Button(root, text=\"Create Account\", fg=\"green\", command=sign_in, width=15, font=fontStyle, padx=12, pady=10)\n",
    "\n",
    "#Funtion to insert word on Entry:\n",
    "\n",
    "\n",
    "#Calling funtion to insert word:\n",
    "\n",
    "\n",
    "\n",
    "#Run functions:\n",
    "\n",
    "e_name.bind(\"<1>\", name)\n",
    "\n",
    "#Set layout to possitions:\n",
    "\n",
    "label.grid(row=0, column=0, padx=15, pady=10)\n",
    "e_name.grid(row=1, column=0, padx=8, pady=15, ipady=5)\n",
    "e_lastname.grid(row=1, column=1, padx=1, pady=15, ipady=5)\n",
    "e_email.grid(row=2, column=0, padx=10, columnspan=3, pady=15, ipady=7)\n",
    "e_password.grid(row=3, column=0, columnspan=3, pady=15, ipady=7)\n",
    "e_confpassword.grid(row=4, column=0, columnspan=3, pady=15, ipady=7)\n",
    "button.grid(row=5, column=1, pady=10)\n",
    "\n",
    "root.mainloop()"
   ]
  },
  {
   "cell_type": "code",
   "execution_count": null,
   "metadata": {},
   "outputs": [],
   "source": []
  },
  {
   "cell_type": "code",
   "execution_count": null,
   "metadata": {},
   "outputs": [],
   "source": []
  }
 ],
 "metadata": {
  "kernelspec": {
   "display_name": "Python 3",
   "language": "python",
   "name": "python3"
  },
  "language_info": {
   "codemirror_mode": {
    "name": "ipython",
    "version": 3
   },
   "file_extension": ".py",
   "mimetype": "text/x-python",
   "name": "python",
   "nbconvert_exporter": "python",
   "pygments_lexer": "ipython3",
   "version": "3.7.6"
  }
 },
 "nbformat": 4,
 "nbformat_minor": 4
}
