{
 "cells": [
  {
   "cell_type": "code",
   "execution_count": 33,
   "metadata": {},
   "outputs": [],
   "source": [
    "#Opening a file:\n",
    "#open file for reading:\n",
    "\n",
    "#context management(best way to open file):\n",
    "\n",
    "# with open('text.txt', 'r') as f:\n",
    "    \n",
    "    \n",
    "#     size_to_read = 10\n",
    "    \n",
    "#     f_content = f.read(size_to_read)\n",
    "#     print(f_content, end='')\n",
    "    \n",
    "#     f.seek(0)\n",
    "    \n",
    "#     f_content = f.read(size_to_read)\n",
    "#     print(f_content, end='')\n",
    "    \n",
    "    \n",
    "\n",
    "    \n",
    "    #while len(f_content) > 0:\n",
    "       # print(f_content, end='*')\n",
    "       # f_content = f.read(size_to_read)"
   ]
  },
  {
   "cell_type": "code",
   "execution_count": 39,
   "metadata": {},
   "outputs": [],
   "source": [
    "# OVER writing to a file:\n",
    "\n",
    "# with open('text2.txt','w') as f:\n",
    "#     f.write('Text')\n",
    "#     f.write('R')"
   ]
  },
  {
   "cell_type": "code",
   "execution_count": 41,
   "metadata": {},
   "outputs": [],
   "source": [
    "#copying cotent from one file to another file:\n",
    "# with open('text.txt','r') as rf:\n",
    "#     with open('text_copy.txt','w') as wf:\n",
    "#         for line in rf:\n",
    "#             wf.write(line)\n",
    "\n",
    "\n",
    "#Using binary mode:\n",
    "# with open('pkweb.jpeg','rb') as rf:\n",
    "#     with open('copy_pkweb.jpeg','wb') as wf:\n",
    "#         for line in rf:\n",
    "#             wf.write(line)\n",
    "            \n"
   ]
  },
  {
   "cell_type": "code",
   "execution_count": 42,
   "metadata": {},
   "outputs": [],
   "source": [
    "#being more organized:\n",
    "# with open('pkweb.jpeg','rb') as rf:\n",
    "#     with open('copy_pkweb.jpeg','wb') as wf:\n",
    "#         chunk_size = 4096\n",
    "#         rf_chunk = rf.read(chunk_size)\n",
    "#         while len(rf_chunk) > 0:\n",
    "#             wf.write(rf_chunk)\n",
    "#             rf_chunk = rf.read(chunk_size)\n",
    "        "
   ]
  },
  {
   "cell_type": "code",
   "execution_count": null,
   "metadata": {},
   "outputs": [],
   "source": []
  }
 ],
 "metadata": {
  "kernelspec": {
   "display_name": "Python 3",
   "language": "python",
   "name": "python3"
  },
  "language_info": {
   "codemirror_mode": {
    "name": "ipython",
    "version": 3
   },
   "file_extension": ".py",
   "mimetype": "text/x-python",
   "name": "python",
   "nbconvert_exporter": "python",
   "pygments_lexer": "ipython3",
   "version": "3.7.6"
  }
 },
 "nbformat": 4,
 "nbformat_minor": 4
}
