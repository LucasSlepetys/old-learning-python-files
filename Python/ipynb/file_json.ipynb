{
 "cells": [
  {
   "cell_type": "code",
   "execution_count": 4,
   "metadata": {},
   "outputs": [],
   "source": [
    "import json \n",
    "workout = { \n",
    "    \"Workout\":  [\n",
    "            {\n",
    "            \"Day\": 1,\n",
    "            \"Push ups\": 30,\n",
    "            \"Pull ups\": 20,\n",
    "            \"Dips\": 30,\n",
    "            \"Curls(10KLs)\": 12,\n",
    "            \"Squats\": 30\n",
    "    }\n",
    "    ]\n",
    "}\n",
    "with open('workout_data.json', 'w') as f:\n",
    "    json.dump(workout['Workout'], f, indent=2)"
   ]
  },
  {
   "cell_type": "code",
   "execution_count": 5,
   "metadata": {
    "scrolled": true
   },
   "outputs": [
    {
     "output_type": "error",
     "ename": "IndentationError",
     "evalue": "expected an indented block (<ipython-input-5-d8beb781f101>, line 9)",
     "traceback": [
      "\u001b[0;36m  File \u001b[0;32m\"<ipython-input-5-d8beb781f101>\"\u001b[0;36m, line \u001b[0;32m9\u001b[0m\n\u001b[0;31m    json.dump(workout['Workout'], f, indent=2)\u001b[0m\n\u001b[0m       ^\u001b[0m\n\u001b[0;31mIndentationError\u001b[0m\u001b[0;31m:\u001b[0m expected an indented block\n"
     ]
    }
   ],
   "source": [
    "for obj in workout[\"Workout\"]:\n",
    "    obj[\"Day\"] = obj[\"Day\"] = (obj[\"Day\"] + 1)\n",
    "    obj[\"Push ups\"] = (int(input(\"Push ups: \")) * 10)\n",
    "    obj[\"Pull ups\"] = (int(input(\"Pull ups: \")) * 5)\n",
    "    obj[\"Dips\"] = (int(input(\"Dips: \")) * 10)\n",
    "    obj[\"Curls(10KLs)\"] = (int(input(\"Curls: \")) * 4)\n",
    "    obj[\"Squats\"] = (int(input(\"Squats: \")) * 10)  \n",
    "    with open('workout_data.json', 'a') as f:\n",
    "        json.dump(workout['Workout'], f, indent=2)"
   ]
  },
  {
   "cell_type": "code",
   "execution_count": null,
   "metadata": {},
   "outputs": [],
   "source": []
  }
 ],
 "metadata": {
  "kernelspec": {
   "display_name": "Python 3",
   "language": "python",
   "name": "python3"
  },
  "language_info": {
   "codemirror_mode": {
    "name": "ipython",
    "version": 3
   },
   "file_extension": ".py",
   "mimetype": "text/x-python",
   "name": "python",
   "nbconvert_exporter": "python",
   "pygments_lexer": "ipython3",
   "version": "3.7.6"
  }
 },
 "nbformat": 4,
 "nbformat_minor": 4
}