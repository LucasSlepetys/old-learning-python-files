{
 "cells": [
  {
   "cell_type": "code",
   "execution_count": 8,
   "metadata": {},
   "outputs": [],
   "source": [
    "def replace(letter):\n",
    "    f = open(\"replace.json\", \"r\")\n",
    "    f_content = f.read()\n",
    "    f.close()\n",
    "    print(f_content)\n",
    "    with open(\"replace.json\", \"w\") as file:\n",
    "        for i in f_content:\n",
    "            file.write(i.replace(letter, \" \"))"
   ]
  },
  {
   "cell_type": "code",
   "execution_count": 9,
   "metadata": {},
   "outputs": [],
   "source": [
    "def replacing():\n",
    "    replace(\"{\")\n",
    "    replace(\"}\")\n",
    "    replace(\"[\")\n",
    "    replace(\"]\")\n",
    "    return (\"{,},[,] were replaced with air\")     "
   ]
  },
  {
   "cell_type": "code",
   "execution_count": 10,
   "metadata": {},
   "outputs": [
    {
     "name": "stdout",
     "output_type": "stream",
     "text": [
      " \n",
      "     \n",
      "        \"My name is Lucas\"\n",
      "     \n",
      " \n",
      " \n",
      "     \n",
      "        \"My name is Lucas\"\n",
      "     \n",
      " \n",
      " \n",
      "     \n",
      "        \"My name is Lucas\"\n",
      "     \n",
      " \n",
      " \n",
      "     \n",
      "        \"My name is Lucas\"\n",
      "     \n",
      " \n"
     ]
    },
    {
     "data": {
      "text/plain": [
       "'{,},[,] were replaced with air'"
      ]
     },
     "execution_count": 10,
     "metadata": {},
     "output_type": "execute_result"
    }
   ],
   "source": [
    "replacing()"
   ]
  },
  {
   "cell_type": "code",
   "execution_count": null,
   "metadata": {},
   "outputs": [],
   "source": []
  }
 ],
 "metadata": {
  "kernelspec": {
   "display_name": "Python 3",
   "language": "python",
   "name": "python3"
  },
  "language_info": {
   "codemirror_mode": {
    "name": "ipython",
    "version": 3
   },
   "file_extension": ".py",
   "mimetype": "text/x-python",
   "name": "python",
   "nbconvert_exporter": "python",
   "pygments_lexer": "ipython3",
   "version": "3.7.6"
  }
 },
 "nbformat": 4,
 "nbformat_minor": 4
}
