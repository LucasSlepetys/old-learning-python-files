{
 "cells": [
  {
   "cell_type": "code",
   "execution_count": 7,
   "metadata": {},
   "outputs": [
    {
     "name": "stdout",
     "output_type": "stream",
     "text": [
      "0\n",
      "Hello Lucas! Hope you had a great workout!\n",
      "Save here the amount of series that you have done for each exercise:\n"
     ]
    }
   ],
   "source": [
    "name = \"Lucas\"\n",
    "workout = {\n",
    "    \"Day_1\" : {\n",
    "        \"push_ups\" : 0,\n",
    "        \"pull_ups\" : 0,\n",
    "        \"dips\" : 0,\n",
    "        \"curls_10kl\" : 0,\n",
    "        \"squats\" : 0,\n",
    "    },\n",
    "    \"Day_2\" : {\n",
    "        \"push_ups\" : 0,\n",
    "        \"pull_ups\" : 0,\n",
    "        \"dips\" : 0,\n",
    "        \"curls_10kl\" : 0,\n",
    "        \"squats\" : 0},\n",
    "\n",
    "}\n",
    "\n",
    "\n",
    "print(\"Hello \" + name + \"! Hope you had a great workout!\")\n",
    "print(\"Save here the amount of series that you have done for each exercise:\")\n"
   ]
  },
  {
   "cell_type": "code",
   "execution_count": null,
   "metadata": {},
   "outputs": [],
   "source": []
  },
  {
   "cell_type": "code",
   "execution_count": null,
   "metadata": {},
   "outputs": [],
   "source": []
  }
 ],
 "metadata": {
  "kernelspec": {
   "display_name": "Python 3",
   "language": "python",
   "name": "python3"
  },
  "language_info": {
   "codemirror_mode": {
    "name": "ipython",
    "version": 3
   },
   "file_extension": ".py",
   "mimetype": "text/x-python",
   "name": "python",
   "nbconvert_exporter": "python",
   "pygments_lexer": "ipython3",
   "version": "3.7.6"
  }
 },
 "nbformat": 4,
 "nbformat_minor": 4
}
