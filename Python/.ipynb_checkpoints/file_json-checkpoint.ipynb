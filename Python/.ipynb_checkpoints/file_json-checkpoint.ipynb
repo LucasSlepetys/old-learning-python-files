{
 "cells": [
  {
   "cell_type": "code",
   "execution_count": 1,
   "metadata": {},
   "outputs": [],
   "source": [
    "import json \n",
    "workout = { \n",
    "    \"Workout\":  [\n",
    "            {\n",
    "            \"Day\": 1,\n",
    "            \"Push ups\": 30,\n",
    "            \"Pull ups\": 20,\n",
    "            \"Dips\": 30,\n",
    "            \"Curls(10KLs)\": 12,\n",
    "            \"Squats\": 30\n",
    "    }\n",
    "    ]\n",
    "}\n",
    "with open('workout_data.json', 'w') as f:\n",
    "    json.dump(workout['Workout'], f, indent=2)"
   ]
  },
  {
   "cell_type": "code",
   "execution_count": 2,
   "metadata": {
    "scrolled": true
   },
   "outputs": [
    {
     "name": "stdout",
     "output_type": "stream",
     "text": [
      "Push ups: 3\n",
      "Pull ups: 4\n",
      "Dips: 3\n",
      "Curls: 4\n",
      "Squats: 4\n"
     ]
    }
   ],
   "source": [
    "for obj in workout[\"Workout\"]:\n",
    "    obj[\"Day\"] = obj[\"Day\"] = (obj[\"Day\"] + 1)\n",
    "    obj[\"Push ups\"] = (int(input(\"Push ups: \")) * 10)\n",
    "    obj[\"Pull ups\"] = (int(input(\"Pull ups: \")) * 5)\n",
    "    obj[\"Dips\"] = (int(input(\"Dips: \")) * 10)\n",
    "    obj[\"Curls(10KLs)\"] = (int(input(\"Curls: \")) * 4)\n",
    "    obj[\"Squats\"] = (int(input(\"Squats: \")) * 10)\n",
    "with open('workout_data.json', 'a') as f:\n",
    "    json.dump(workout['Workout'], f, indent=2)"
   ]
  },
  {
   "cell_type": "code",
   "execution_count": null,
   "metadata": {},
   "outputs": [],
   "source": []
  }
 ],
 "metadata": {
  "kernelspec": {
   "display_name": "Python 3",
   "language": "python",
   "name": "python3"
  },
  "language_info": {
   "codemirror_mode": {
    "name": "ipython",
    "version": 3
   },
   "file_extension": ".py",
   "mimetype": "text/x-python",
   "name": "python",
   "nbconvert_exporter": "python",
   "pygments_lexer": "ipython3",
   "version": "3.7.6"
  }
 },
 "nbformat": 4,
 "nbformat_minor": 4
}
