{
 "cells": [
  {
   "cell_type": "code",
   "execution_count": null,
   "metadata": {},
   "outputs": [
    {
     "name": "stdout",
     "output_type": "stream",
     "text": [
      "We are going to play a game of rock paper scissors!\n",
      "You know the rules! Right?\n"
     ]
    }
   ],
   "source": [
    "#game of rock, paper or scissors:\n",
    "import time\n",
    "import random\n",
    "game = \"a\"\n",
    "game1 = ['rock', 'paper', 'scissors']\n",
    "print(\"We are going to play a game of rock paper scissors!\")\n",
    "time.sleep(3)\n",
    "print(\"You know the rules! Right?\")\n",
    "time.sleep(2)\n",
    "user = input(\"First, what's your name? \")\n",
    "time.sleep(1)\n",
    "print(\"Hello\" +\" \" + user + \",I am a robot which will play the game against you!\")\n",
    "time.sleep(3)\n",
    "game = input(\"Type 'play' to start the game: \")\n",
    "while game == \"play\":\n",
    "    print(\"Ok! It is your turn\" + \" \" + user +\"!\")\n",
    "    time.sleep(2)\n",
    "    print(\"Make sure to speel it correcly! Without any capital letters!\")\n",
    "    time.sleep(3)\n",
    "    op = input(\"rock paper or scissors? \")\n",
    "    print(\"Ok! You op\" + \" \" + op)\n",
    "    print(\"Now is my turn!\")\n",
    "    value = random.choice(game1)\n",
    "    print(\"\")\n",
    "    time.sleep(2)\n",
    "    print(\"I choose\",value)\n",
    "    time.sleep(3)\n",
    "    if value == \"rock\" and op == \"paper\":\n",
    "        print(user,\"wins! Congratulations!\")\n",
    "    elif value == \"rock\" and op == \"scissors\":\n",
    "        print(\"I won!\")\n",
    "    elif value == \"paper\" and op == \"scissors\":\n",
    "        print(user,\"wins! Congratulations!\")   \n",
    "    if value == \"paper\" and op == \"rock\":\n",
    "        print(\"I won!\")\n",
    "    elif value == \"scissors\" and op == \"rock\":\n",
    "        print(user,\"wins! Congratulations!\")\n",
    "    elif value == \"scissors\" and op == \"paper\":\n",
    "        print(\"I won!\")\n",
    "    elif value == op: \n",
    "        print(\"It was a tie! Lets try again!\")\n",
    "    time.sleep(2)\n",
    "    game = \"a\"\n",
    "    print(\"Do you want to play it again?\")\n",
    "    time.sleep(1)\n",
    "    game = input(\"Type 'play to play the game again!\")\n",
    "    \n",
    "                "
   ]
  },
  {
   "cell_type": "code",
   "execution_count": null,
   "metadata": {},
   "outputs": [],
   "source": []
  },
  {
   "cell_type": "code",
   "execution_count": null,
   "metadata": {},
   "outputs": [],
   "source": []
  }
 ],
 "metadata": {
  "kernelspec": {
   "display_name": "Python 3",
   "language": "python",
   "name": "python3"
  }
 },
 "nbformat": 4,
 "nbformat_minor": 4
}
