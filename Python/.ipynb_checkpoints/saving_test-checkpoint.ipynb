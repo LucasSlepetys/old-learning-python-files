{
 "cells": [
  {
   "cell_type": "code",
   "execution_count": 14,
   "metadata": {},
   "outputs": [
    {
     "name": "stdout",
     "output_type": "stream",
     "text": [
      "5\n"
     ]
    }
   ],
   "source": [
    "workout = {\n",
    "    \"Day_1\" : {\n",
    "        \"push_ups\" : 4,\n",
    "        \"pull_ups\" : 4,\n",
    "    },\n",
    "     \"Day_2\" : {\n",
    "        \"push_ups\" : 5,\n",
    "        \"pull_ups\" : 5,}\n",
    "}\n",
    "\n",
    "print (workout[\"Day_2\"][\"push_ups\"])"
   ]
  },
  {
   "cell_type": "code",
   "execution_count": 16,
   "metadata": {},
   "outputs": [
    {
     "name": "stdout",
     "output_type": "stream",
     "text": [
      "50\n"
     ]
    }
   ],
   "source": [
    "print (\n",
    "    (workout[\"Day_2\"][\"push_ups\"]) * 10\n",
    ")"
   ]
  },
  {
   "cell_type": "code",
   "execution_count": null,
   "metadata": {},
   "outputs": [],
   "source": []
  }
 ],
 "metadata": {
  "kernelspec": {
   "display_name": "Python 3",
   "language": "python",
   "name": "python3"
  },
  "language_info": {
   "codemirror_mode": {
    "name": "ipython",
    "version": 3
   },
   "file_extension": ".py",
   "mimetype": "text/x-python",
   "name": "python",
   "nbconvert_exporter": "python",
   "pygments_lexer": "ipython3",
   "version": "3.7.6"
  }
 },
 "nbformat": 4,
 "nbformat_minor": 4
}
