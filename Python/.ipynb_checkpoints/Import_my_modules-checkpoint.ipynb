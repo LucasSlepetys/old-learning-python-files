{
 "cells": [
  {
   "cell_type": "code",
   "execution_count": 1,
   "metadata": {},
   "outputs": [
    {
     "name": "stdout",
     "output_type": "stream",
     "text": [
      "Please enter the name of your textfile: test_del.txt\n",
      "Which character do you want to replace: &\n",
      "Which character do you want '&' to be replaced to? e\n",
      " \n",
      "   \n",
      "     Ex&rcis& :  Push up  \n",
      "     Extra W&ight in (Kg) : 0 \n",
      "     S&ts : 4 \n",
      "     R&ps : 20 \n",
      "     S&ts * R&ps : 80\n",
      "   \n",
      "  \n",
      "   \n",
      "     Ex&rcis& :  Squats  \n",
      "     Extra W&ight in (Kg) : 20 \n",
      "     S&ts : 4 \n",
      "     R&ps : 20 \n",
      "     S&ts * R&ps : 80\n",
      "   \n",
      "  \n",
      "   \n",
      "     Ex&rcis& :  Pull ups  \n",
      "     Extra W&ight in (Kg) : 0 \n",
      "     S&ts : 4 \n",
      "     R&ps : 10 \n",
      "     S&ts * R&ps : 40\n",
      "   \n"
     ]
    },
    {
     "ename": "NameError",
     "evalue": "name 'replacing' is not defined",
     "output_type": "error",
     "traceback": [
      "\u001b[0;31m---------------------------------------------------------------------------\u001b[0m",
      "\u001b[0;31mNameError\u001b[0m                                 Traceback (most recent call last)",
      "\u001b[0;32m<ipython-input-1-9b0915ede59b>\u001b[0m in \u001b[0;36m<module>\u001b[0;34m\u001b[0m\n\u001b[1;32m      1\u001b[0m \u001b[0;32mfrom\u001b[0m \u001b[0mfile_replace\u001b[0m \u001b[0;32mimport\u001b[0m \u001b[0mdel_character\u001b[0m\u001b[0;34m\u001b[0m\u001b[0;34m\u001b[0m\u001b[0m\n\u001b[0;32m----> 2\u001b[0;31m \u001b[0mreplacing\u001b[0m\u001b[0;34m(\u001b[0m\u001b[0;34m)\u001b[0m\u001b[0;34m\u001b[0m\u001b[0;34m\u001b[0m\u001b[0m\n\u001b[0m",
      "\u001b[0;31mNameError\u001b[0m: name 'replacing' is not defined"
     ]
    }
   ],
   "source": [
    "from file_replace import del_character\n",
    "replacing()"
   ]
  },
  {
   "cell_type": "code",
   "execution_count": null,
   "metadata": {},
   "outputs": [],
   "source": []
  }
 ],
 "metadata": {
  "kernelspec": {
   "display_name": "Python 3",
   "language": "python",
   "name": "python3"
  },
  "language_info": {
   "codemirror_mode": {
    "name": "ipython",
    "version": 3
   },
   "file_extension": ".py",
   "mimetype": "text/x-python",
   "name": "python",
   "nbconvert_exporter": "python",
   "pygments_lexer": "ipython3",
   "version": "3.7.6"
  }
 },
 "nbformat": 4,
 "nbformat_minor": 4
}
