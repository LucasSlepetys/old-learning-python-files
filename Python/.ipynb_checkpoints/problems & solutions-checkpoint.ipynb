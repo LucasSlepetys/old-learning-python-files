{
 "cells": [
  {
   "cell_type": "code",
   "execution_count": null,
   "metadata": {},
   "outputs": [],
   "source": [
    "user_name = input(\"Enter your name :\") \n",
    "print(\"Hello \", user_name)"
   ]
  },
  {
   "cell_type": "code",
   "execution_count": null,
   "metadata": {},
   "outputs": [],
   "source": [
    "#lists:\n",
    "\n",
    "list1 = [*range(1, 101)]\n"
   ]
  },
  {
   "cell_type": "code",
   "execution_count": null,
   "metadata": {},
   "outputs": [],
   "source": [
    "#printing a string:\n",
    "\n",
    "print(list1)"
   ]
  },
  {
   "cell_type": "code",
   "execution_count": null,
   "metadata": {},
   "outputs": [],
   "source": [
    "#print the sum \n",
    "\n",
    "num1 = int(input(\" Enter first number :\")) \n",
    "num2 =int(input(\" Enter second number :\"))\n",
    "sum = num1 + num2\n",
    "print(str(num1) + \" + \" + str(num2) + \" = \" , sum)"
   ]
  },
  {
   "cell_type": "code",
   "execution_count": null,
   "metadata": {
    "scrolled": true
   },
   "outputs": [],
   "source": [
    "#Print even numbers below 100\n",
    "#using while loop\n",
    "n = 2\n",
    "while n <= 100:\n",
    "    print(n)\n",
    "    n += 2\n",
    "\n"
   ]
  },
  {
   "cell_type": "code",
   "execution_count": null,
   "metadata": {
    "scrolled": true
   },
   "outputs": [],
   "source": [
    "#Print odd numbers below 100\n",
    "# using range(start, end, step) built in\n",
    "\n",
    "for num in range(2,100,2):\n",
    "    print(num)\n",
    " "
   ]
  },
  {
   "cell_type": "code",
   "execution_count": null,
   "metadata": {
    "scrolled": true
   },
   "outputs": [],
   "source": [
    "#Print odd numbers below 50, in descending order\n",
    "#using while loop\n",
    "n1 = 49\n",
    "while n1 >= 1:\n",
    "    print(n1)\n",
    "    n1 -= 2"
   ]
  },
  {
   "cell_type": "code",
   "execution_count": null,
   "metadata": {
    "scrolled": true
   },
   "outputs": [],
   "source": [
    "#Print odd numbers below 50, in descending order\n",
    "#using range(start, end, step)\n",
    "#!= is \"not iqual to\"\n",
    " \n",
    "for num in range(50,0,-1):\n",
    "    if num %2 != 0:\n",
    "        print(num)\n",
    " "
   ]
  },
  {
   "cell_type": "code",
   "execution_count": null,
   "metadata": {},
   "outputs": [],
   "source": [
    "#Print prime numbers below 100\n"
   ]
  },
  {
   "cell_type": "code",
   "execution_count": null,
   "metadata": {
    "scrolled": true
   },
   "outputs": [],
   "source": [
    "#Take two numbers from user, and print the biggest.\n",
    "\n",
    "n1 = int(input(\"Enter first number :\"))\n",
    "n2 = int(input(\"Enter second number :\"))\n",
    "\n",
    "if n1 < n2:\n",
    "    print(\"number 2 is the biggest\", \":\", n2)\n",
    "else:\n",
    "    print(\"number 1 is the biggest\", \":\", n1)"
   ]
  },
  {
   "cell_type": "code",
   "execution_count": null,
   "metadata": {},
   "outputs": [],
   "source": [
    "#Take three numbers from user, and print the biggest.\n",
    "\n",
    "nu1 = int(input(\"Enter first number :\"))\n",
    "nu2 = int(input(\"Enter second number :\"))\n",
    "nu3 = int(input(\"Enter third number :\"))\n",
    "\n",
    "if nu1 > nu2 and nu3:\n",
    "    print(\"number one is the biggest\")\n",
    "elif nu2 > nu3 and nu1:\n",
    "    print(\"number two is the biggest\")\n",
    "elif nu3 > nu1 and nu2:\n",
    "    print(\"number three is the biggest\")\n",
    "else:\n",
    "    print(\"All numbers are igual\")\n"
   ]
  },
  {
   "cell_type": "code",
   "execution_count": null,
   "metadata": {},
   "outputs": [],
   "source": [
    "# Ask the user for a number, to pick the color from the list. (Blue, Green, Orange, Red), and print the color.\n",
    "colors = ['Blue','Green','Orange','Red']\n",
    " \n",
    "color = int(input('Enter a number between 1 and 4 :'))\n",
    " \n",
    "if color > 4 or color < 1:\n",
    " \n",
    "    print('Wrong Choice')\n",
    "    \n",
    "else:\n",
    "    color -= 1 #index starts at 0\n",
    " \n",
    "if colors[color] == 'Blue':\n",
    " \n",
    "    print ('You picked Blue')\n",
    " \n",
    "elif colors[color] == 'Green':\n",
    " \n",
    "    print ('You picked Green')\n",
    " \n",
    "elif colors[color] == 'Orange':\n",
    " \n",
    "    print ('You picked Orange')\n",
    " \n",
    "elif colors[color] == 'Red':\n",
    " \n",
    "    print ('You picked Red')\n",
    " \n"
   ]
  },
  {
   "cell_type": "code",
   "execution_count": null,
   "metadata": {},
   "outputs": [],
   "source": [
    "#rock paper and scissors game.\n",
    "#\\n = next line and then \"+\"\n",
    "\n",
    "print(\"The Rules of Rock paper scissor game will be the following: \\n\"\n",
    "\"Rock(1) vs paper(2) --> paper(2) wins \\n\"\n",
    "\"Rock(1) vs scissor(3) --> Rock(1) wins \\n\"\n",
    "\"paper(2) vs scissor(3) --> scissor(3) wins \\n\")\n",
    "\n",
    "user1 = input(\"Player 1, what's your name?: \")\n",
    "user2 = input(\"Player 2, what's your name?: \")\n",
    "\n",
    "print(\"\")\n",
    "print(\"\")\n",
    "print(\"\")\n",
    "\n",
    "print(\"These numbers are your opitions: \\n\"\n",
    "\"Rock = 1 \\n\"\n",
    "\"Paper = 2 \\n\"\n",
    "\"Scissor = 3 \\n\")\n",
    "\n",
    "print(\"\")\n",
    "print(\"\")\n",
    "print(\"\")\n",
    "\n",
    "c1 = input(user1 +\",\" +\" \"+ \"make your choice: \")\n",
    "c2 = input(user2 +\",\" +\" \"+ \"make your choice: \")\n",
    "\n",
    "if c1 == \"1\" and c2 == \"2\":\n",
    "    print(user2,\"wins!\")\n",
    "elif c1 == \"1\" and c2 == \"3\":\n",
    "    print(user1,\"wins!\")\n",
    "elif c1 == \"2\" and c2 == \"3\":\n",
    "    print(user2,\"wins!\")   \n",
    "if c1 == \"2\" and c2 == \"1\":\n",
    "    print(user1,\"wins!\")\n",
    "elif c1 == \"3\" and c2 == \"1\":\n",
    "    print(user2,\"wins!\")\n",
    "elif c1 == \"3\" and c2 == \"2\":\n",
    "    print(user1,\"wins!\")\n",
    "elif c1 == c2: \n",
    "    print(\"It was a tie! Try again!\")\n",
    "\n",
    "\n",
    "    \n",
    "\n",
    "    \n",
    "\n"
   ]
  },
  {
   "cell_type": "code",
   "execution_count": null,
   "metadata": {},
   "outputs": [],
   "source": [
    "#random numbers\n",
    "import random\n",
    "\n",
    "#Value from 0 to 1\n",
    "value = random.random()\n",
    "print(value)\n",
    "\n"
   ]
  },
  {
   "cell_type": "code",
   "execution_count": null,
   "metadata": {},
   "outputs": [],
   "source": [
    "#set range:\n",
    "\n",
    "value1= random.uniform(1, 10)\n",
    "print(value1)\n",
    "\n"
   ]
  },
  {
   "cell_type": "code",
   "execution_count": null,
   "metadata": {},
   "outputs": [],
   "source": [
    "#set range & intergers\n",
    "value2 = random.randint(1, 6)\n",
    "print(value2)"
   ]
  },
  {
   "cell_type": "code",
   "execution_count": null,
   "metadata": {},
   "outputs": [],
   "source": [
    "#random from a list:\n",
    "greetings = ['hello', 'hi', 'hey', 'howdy', 'hola']\n",
    "\n",
    "value3 = random.choice(greetings)\n",
    "print(value3 + ', Lucas:')"
   ]
  },
  {
   "cell_type": "code",
   "execution_count": null,
   "metadata": {},
   "outputs": [],
   "source": [
    "#multiple random from a list:\n",
    "colors = ['Red', 'Black', 'Green']\n",
    "\n",
    "results = random.choices(colors, weights=[18,18,2], k=10)\n",
    "print(results)"
   ]
  },
  {
   "cell_type": "code",
   "execution_count": null,
   "metadata": {},
   "outputs": [],
   "source": [
    "#shuffle values\n",
    "#grabing unic values\n",
    "deck = list(range(1, 53))\n",
    "\n",
    "hand = random.sample(deck, k=5)\n",
    "#random.shuffle(deck)\n",
    "#print(deck)\n",
    "print(hand)\n"
   ]
  },
  {
   "cell_type": "code",
   "execution_count": null,
   "metadata": {},
   "outputs": [],
   "source": [
    "import os\n",
    "import time\n",
    "def clear():\n",
    "\n",
    "    print(\"hello\")\n",
    "\n",
    "\n",
    "time.sleep(2)\n",
    "\n",
    "print(\"hello\")\n",
    "os.system(\"ls\")\n",
    "\n",
    "clear()"
   ]
  },
  {
   "cell_type": "code",
   "execution_count": null,
   "metadata": {},
   "outputs": [],
   "source": [
    "#creating a button\n",
    "from tkinter import *\n",
    "\n",
    "master = Tk()\n",
    "\n",
    "def closewindow():\n",
    "    exit()\n",
    "    \n",
    "button = Button(master, text=\"Close window\", command=closewindow)\n",
    "\n",
    "button.pack()\n",
    "\n",
    "mainloop()\n",
    "\n"
   ]
  },
  {
   "cell_type": "code",
   "execution_count": null,
   "metadata": {},
   "outputs": [],
   "source": [
    "#creating a button\n",
    "#making function when button is pressed\n",
    "#changing possitions: side=(RIGHT)(LEFT)(BOTTOM)(TOP)\n",
    "from tkinter import *\n",
    "\n",
    "root = Tk()\n",
    "root.geometry('300x200')\n",
    "\n",
    "def buttomFunction():\n",
    "    print(\"Hello world\")\n",
    "\n",
    "l = Label(root, text=(\"Hello world!\"))\n",
    "l.pack(side=LEFT)\n",
    "\n",
    "b = Button(root, text=\"Click me!\", command=buttomFunction)\n",
    "b.pack(side=LEFT)\n",
    "\n",
    "b2 = Button(root, text=\"Click me!\", command=buttomFunction)\n",
    "b2.pack(side=LEFT)\n",
    "\n",
    "root.mainloop()\n"
   ]
  },
  {
   "cell_type": "code",
   "execution_count": null,
   "metadata": {},
   "outputs": [],
   "source": [
    "from tkinter import *\n",
    "\n",
    "def onclick():\n",
    "   pass\n",
    "\n",
    "root = Tk()\n",
    "text = Text(root)\n",
    "text.insert(INSERT, \"Hello.....\")\n",
    "text.insert(END, \"Bye Bye.....\")\n",
    "text.pack()\n",
    "\n",
    "text.tag_add(\"here\", \"1.0\", \"1.4\")\n",
    "text.tag_add(\"start\", \"1.8\", \"1.13\")\n",
    "text.tag_config(\"here\", background=\"yellow\", foreground=\"blue\")\n",
    "text.tag_config(\"start\", background=\"black\", foreground=\"green\")\n",
    "root.mainloop()"
   ]
  },
  {
   "cell_type": "code",
   "execution_count": null,
   "metadata": {},
   "outputs": [],
   "source": [
    "from tkinter import *\n",
    "\n",
    "\n",
    "\n",
    "root = Tk()\n",
    "text = Text(root)\n",
    "text.pack()\n",
    "\n",
    "root.mainloop()\n"
   ]
  },
  {
   "cell_type": "code",
   "execution_count": null,
   "metadata": {},
   "outputs": [],
   "source": [
    "#copy and pasted \n",
    "from tkinter import *\n",
    "\n",
    "root = Tk()\n",
    "frame = Frame(root)\n",
    "frame.pack()\n",
    "\n",
    "bottomframe = Frame(root)\n",
    "bottomframe.pack( side = BOTTOM )\n",
    "\n",
    "redbutton = Button(frame, text=\"Red\", fg=\"red\")\n",
    "redbutton.pack( side = LEFT)\n",
    "\n",
    "greenbutton = Button(frame, text=\"green\", fg=\"green\")\n",
    "greenbutton.pack( side = LEFT )\n",
    "\n",
    "bluebutton = Button(frame, text=\"Blue\", fg=\"blue\")\n",
    "bluebutton.pack( side = LEFT )\n",
    "\n",
    "blackbutton = Button(bottomframe, text=\"Black\", fg=\"black\")\n",
    "blackbutton.pack( side = BOTTOM)\n",
    "\n",
    "root.mainloop()"
   ]
  },
  {
   "cell_type": "code",
   "execution_count": 19,
   "metadata": {},
   "outputs": [],
   "source": [
    "import sys \n",
    "from tkinter import *\n",
    "store = []\n",
    "def mhello():\n",
    "    mtext = ment.get()\n",
    "    mlebel2 = Label(mGui,text=mtext).pack()\n",
    "    store.append(mtext)\n",
    "    return\n",
    "\n",
    "mGui = Tk()\n",
    "ment = StringVar()\n",
    "\n",
    "mGui.geometry('450x450+500+300')\n",
    "mGui.title('My Tkinter')\n",
    "\n",
    "mlabel = Label(mGui,text='My Label').pack()\n",
    "mbutton = Button(mGui,text='ok',command = mhello,fg = 'red', bg='blue').pack()\n",
    "mEntry = Entry(mGui,textvariable=ment).pack()\n",
    "\n",
    "mGui.mainloop()"
   ]
  },
  {
   "cell_type": "code",
   "execution_count": 20,
   "metadata": {
    "scrolled": true
   },
   "outputs": [
    {
     "name": "stdout",
     "output_type": "stream",
     "text": [
      "['hello']\n"
     ]
    }
   ],
   "source": [
    "print(store)"
   ]
  },
  {
   "cell_type": "code",
   "execution_count": null,
   "metadata": {},
   "outputs": [],
   "source": []
  }
 ],
 "metadata": {
  "kernelspec": {
   "display_name": "Python 3",
   "language": "python",
   "name": "python3"
  },
  "language_info": {
   "codemirror_mode": {
    "name": "ipython",
    "version": 3
   },
   "file_extension": ".py",
   "mimetype": "text/x-python",
   "name": "python",
   "nbconvert_exporter": "python",
   "pygments_lexer": "ipython3",
   "version": "3.7.6"
  }
 },
 "nbformat": 4,
 "nbformat_minor": 4
}
